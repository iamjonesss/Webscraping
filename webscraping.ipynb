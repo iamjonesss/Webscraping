{
 "cells": [
  {
   "cell_type": "code",
   "execution_count": 16,
   "id": "f7dbce20",
   "metadata": {},
   "outputs": [
    {
     "name": "stdout",
     "output_type": "stream",
     "text": [
      "<selenium.webdriver.remote.webelement.WebElement (session=\"e998a1f4009cd89cd172d6d948c1c693\", element=\"F7373D8C41B1402E4C44C62DD784D56F_element_43\")>\n"
     ]
    }
   ],
   "source": [
    "# Importações\n",
    "from selenium import webdriver\n",
    "import time\n",
    "from selenium.webdriver.common.by import By\n",
    "\n",
    "# Conectando o Selenium ao navegador\n",
    "driver = webdriver.Chrome()\n",
    "\n",
    "# Resgatando o link do site para Webscraping\n",
    "driver.get(\"https://gizmodo.uol.com.br\")\n",
    "\n",
    "# Retornando o título para teste\n",
    "#title = driver.title\n",
    "\n",
    "# Resgatando os elementos com a tag 'article'\n",
    "artigos = driver.find_element(By.CLASS_NAME, \"list-item\")\n",
    "#content = element.get_attribute('list-item')\n",
    "\n",
    "print(artigos)\n",
    "\n",
    "# Tempo de espera \n",
    "time.sleep(5)\n",
    "\n",
    "# Fechando a janela\n",
    "driver.quit()"
   ]
  },
  {
   "cell_type": "code",
   "execution_count": null,
   "id": "439a1624",
   "metadata": {},
   "outputs": [],
   "source": []
  }
 ],
 "metadata": {
  "kernelspec": {
   "display_name": "Python 3 (ipykernel)",
   "language": "python",
   "name": "python3"
  },
  "language_info": {
   "codemirror_mode": {
    "name": "ipython",
    "version": 3
   },
   "file_extension": ".py",
   "mimetype": "text/x-python",
   "name": "python",
   "nbconvert_exporter": "python",
   "pygments_lexer": "ipython3",
   "version": "3.10.9"
  }
 },
 "nbformat": 4,
 "nbformat_minor": 5
}
