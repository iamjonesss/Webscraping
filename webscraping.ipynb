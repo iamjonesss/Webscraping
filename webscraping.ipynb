{
 "cells": [
  {
   "cell_type": "code",
   "execution_count": 12,
   "id": "f7dbce20",
   "metadata": {
    "scrolled": true
   },
   "outputs": [
    {
     "name": "stdout",
     "output_type": "stream",
     "text": [
      "                                               Title  \\\n",
      "0  Notebook Lenovo IdeaPad 3 com mais de R$ 1.000...   \n",
      "1  Quanto “Indiana Jones 5” vai ganhar em bilhete...   \n",
      "2  Mantenha sua casa protegida com a Câmera intel...   \n",
      "3  Microsoft pretende lançar Windows que não prec...   \n",
      "4          Samsung Galaxy A54 por R$ 1.950 na Amazon   \n",
      "5  Casa da Barbie em Malibu está disponível no Ai...   \n",
      "6  Só agora: tablet da Apple com R$ 700 de descon...   \n",
      "7  Por que Henry Cavill foi recusado como novo Ja...   \n",
      "8  CapCut: edite seus vídeos profissionais em min...   \n",
      "9     Samsung Galaxy S22 Ultra com 12% off na Amazon   \n",
      "\n",
      "                          Date  \\\n",
      "0  27 de junho de 2023 @ 16:56   \n",
      "1  27 de junho de 2023 @ 16:35   \n",
      "2  27 de junho de 2023 @ 16:14   \n",
      "3  27 de junho de 2023 @ 15:53   \n",
      "4  27 de junho de 2023 @ 15:33   \n",
      "5  27 de junho de 2023 @ 15:15   \n",
      "6  27 de junho de 2023 @ 14:54   \n",
      "7  27 de junho de 2023 @ 14:34   \n",
      "8  27 de junho de 2023 @ 14:30   \n",
      "9  27 de junho de 2023 @ 14:14   \n",
      "\n",
      "                                             Summary  \n",
      "0  O notebook Lenovo Ideapad 3 chega com 33% de d...  \n",
      "1  O último filme da saga deve arrecadar tanto qu...  \n",
      "2  Garanta a segurança e tranquilidade da sua cas...  \n",
      "3  Documentos internos revelam plano de expandir ...  \n",
      "4  Quer aproveitar para adquirir um smartphone co...  \n",
      "5  As reservas para a casa da Barbie poderão ser ...  \n",
      "6  iPad 9 roda o chip A13 Bionic, tem tela de 10,...  \n",
      "7  Henry Cavill poderia ter sido James Bond se Da...  \n",
      "8  Editor é gratuito, permite remover fundo de ví...  \n",
      "9  O Samsung Galaxy S22 Ultra está mais barato na...  \n"
     ]
    }
   ],
   "source": [
    "# Importações\n",
    "from selenium import webdriver\n",
    "import time\n",
    "from selenium.webdriver.common.by import By\n",
    "import pandas as pd\n",
    "\n",
    "\n",
    "# Conectando o Selenium ao navegador\n",
    "driver = webdriver.Chrome()\n",
    "\n",
    "# Resgatando o link do site para Webscraping\n",
    "driver.get(\"https://gizmodo.uol.com.br\")\n",
    "\n",
    "# Retornando o título para teste\n",
    "#title = driver.title\n",
    "\n",
    "# Resgatando os elementos com a tag 'article'\n",
    "articles = driver.find_elements(By.CLASS_NAME, \"list-item\")\n",
    "\n",
    "# Lista para armazenar os dados coletados\n",
    "data = []\n",
    "\n",
    "# Laço que irá percorrer o conteúdo dos artigos\n",
    "for article in articles:\n",
    "    title = article.find_element(By.CSS_SELECTOR, \"article header h3 a\").text\n",
    "    date = article.find_element(By.CSS_SELECTOR, \"article .postInfo .o-media-left .postMeta--author .postMeta--author-text .metaText abbr\").text\n",
    "    summary = article.find_element(By.CSS_SELECTOR, \"article .postInfo .o-media-body .postSummary p\").text\n",
    "    \n",
    "    # Dicionário com os valores coletados no laço\n",
    "    article_data = {\n",
    "        'Title': title, \n",
    "        'Date': date, \n",
    "        'Summary': summary\n",
    "     }\n",
    "    data.append(article_data)\n",
    "\n",
    "# Criar um DataFrame com os dados do laço\n",
    "df = pd.DataFrame(data)\n",
    "\n",
    "# Exportando para o arquivo CSV\n",
    "df.to_csv('data.csv', index=False, encoding='utf-8')\n",
    "\n",
    "# Impressão de teste\n",
    "print(df)\n",
    "        \n",
    " \n",
    "    \n",
    "\n",
    "# Tempo de espera \n",
    "time.sleep(5)\n",
    "\n",
    "# Fechando a janela\n",
    "driver.quit()"
   ]
  },
  {
   "cell_type": "code",
   "execution_count": null,
   "id": "439a1624",
   "metadata": {},
   "outputs": [],
   "source": []
  },
  {
   "cell_type": "code",
   "execution_count": null,
   "id": "106d3056",
   "metadata": {},
   "outputs": [],
   "source": []
  }
 ],
 "metadata": {
  "kernelspec": {
   "display_name": "Python 3 (ipykernel)",
   "language": "python",
   "name": "python3"
  },
  "language_info": {
   "codemirror_mode": {
    "name": "ipython",
    "version": 3
   },
   "file_extension": ".py",
   "mimetype": "text/x-python",
   "name": "python",
   "nbconvert_exporter": "python",
   "pygments_lexer": "ipython3",
   "version": "3.10.9"
  }
 },
 "nbformat": 4,
 "nbformat_minor": 5
}
